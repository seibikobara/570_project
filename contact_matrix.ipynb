{
 "cells": [
  {
   "cell_type": "code",
   "execution_count": 1,
   "id": "c8ffadfc",
   "metadata": {},
   "outputs": [],
   "source": [
    "import numpy as np\n",
    "import pandas as pd"
   ]
  },
  {
   "cell_type": "code",
   "execution_count": 2,
   "id": "14aa47de",
   "metadata": {},
   "outputs": [],
   "source": [
    "M=np.zeros((28,28))"
   ]
  },
  {
   "cell_type": "code",
   "execution_count": 3,
   "id": "486adef3",
   "metadata": {},
   "outputs": [],
   "source": [
    "for i in range(28):\n",
    "    if i <=19 :\n",
    "        for j in range(28):\n",
    "            if j <=19:\n",
    "                M[i,j]=19.2/20\n",
    "            if j==20:\n",
    "                M[i,j]=4.8\n",
    "            if j==21:\n",
    "                M[i,j]=3.0\n",
    "            if j==22:\n",
    "                M[i,j]=7.1\n",
    "            if j==23:\n",
    "                M[i,j]=3.7\n",
    "            if j==24:\n",
    "                M[i,j]=3.1\n",
    "            if j==25:\n",
    "                M[i,j]=2.3\n",
    "            if j==26:\n",
    "                M[i,j]=1.4\n",
    "            if j==27:\n",
    "                M[i,j]=1.4\n",
    "    if i ==20:\n",
    "        for j in range(28):\n",
    "            if j<=19:\n",
    "                M[i,j]=4.8\n",
    "            if j==20:\n",
    "                M[i,j]=42.4\n",
    "            if j==21:\n",
    "                M[i,j]=6.4\n",
    "            if j==22:\n",
    "                M[i,j]=5.4\n",
    "            if j==23:\n",
    "                M[i,j]=7.5\n",
    "            if j==24:\n",
    "                M[i,j]=5.0\n",
    "            if j==25:\n",
    "                M[i,j]=1.8\n",
    "            if j==26:\n",
    "                M[i,j]=1.7\n",
    "            if j==27:\n",
    "                M[i,j]=1.7\n",
    "    if i ==21:\n",
    "        for j in range(28):\n",
    "            if j<=19:\n",
    "                M[i,j]=3.0\n",
    "            if j==20:\n",
    "                M[i,j]=6.4\n",
    "            if j==21:\n",
    "                M[i,j]=20.7\n",
    "            if j==22:\n",
    "                M[i,j]=9.2\n",
    "            if j==23:\n",
    "                M[i,j]=7.1\n",
    "            if j==24:\n",
    "                M[i,j]=6.3\n",
    "            if j==25:\n",
    "                M[i,j]=2.0\n",
    "            if j==26:\n",
    "                M[i,j]=0.9\n",
    "            if j==27:\n",
    "                M[i,j]=0.9\n",
    "    if i ==22:\n",
    "        for j in range(28):\n",
    "            if j<=19:\n",
    "                M[i,j]=7.1\n",
    "            if j==20:\n",
    "                M[i,j]=5.4\n",
    "            if j==21:\n",
    "                M[i,j]=9.2\n",
    "            if j==22:\n",
    "                M[i,j]=16.9\n",
    "            if j==23:\n",
    "                M[i,j]=10.1\n",
    "            if j==24:\n",
    "                M[i,j]=6.8\n",
    "            if j==25:\n",
    "                M[i,j]=3.4\n",
    "            if j==26:\n",
    "                M[i,j]=1.5\n",
    "            if j==27:\n",
    "                M[i,j]=1.5\n",
    "    if i ==23:\n",
    "        for j in range(28):\n",
    "            if j<=19:\n",
    "                M[i,j]=3.7\n",
    "            if j==20:\n",
    "                M[i,j]=7.5\n",
    "            if j==21:\n",
    "                M[i,j]=7.1\n",
    "            if j==22:\n",
    "                M[i,j]=10.1\n",
    "            if j==23:\n",
    "                M[i,j]=13.1\n",
    "            if j==24:\n",
    "                M[i,j]=7.4\n",
    "            if j==25:\n",
    "                M[i,j]=2.6\n",
    "            if j==26:\n",
    "                M[i,j]=2.1\n",
    "            if j==27:\n",
    "                M[i,j]=2.1\n",
    "    if i ==24:\n",
    "        for j in range(28):\n",
    "            if j<=19:\n",
    "                M[i,j]=3.1\n",
    "            if j==20:\n",
    "                M[i,j]=5.0\n",
    "            if j==21:\n",
    "                M[i,j]=6.3\n",
    "            if j==22:\n",
    "                M[i,j]=6.8\n",
    "            if j==23:\n",
    "                M[i,j]=7.4\n",
    "            if j==24:\n",
    "                M[i,j]=10.4\n",
    "            if j==25:\n",
    "                M[i,j]=3.5\n",
    "            if j==26:\n",
    "                M[i,j]=1.8\n",
    "            if j==27:\n",
    "                M[i,j]=1.8 \n",
    "    if i ==25:\n",
    "        for j in range(28):\n",
    "            if j<=19:\n",
    "                M[i,j]=2.3\n",
    "            if j==20:\n",
    "                M[i,j]=1.8\n",
    "            if j==21:\n",
    "                M[i,j]=2.0\n",
    "            if j==22:\n",
    "                M[i,j]=3.4\n",
    "            if j==23:\n",
    "                M[i,j]=2.6\n",
    "            if j==24:\n",
    "                M[i,j]=3.5\n",
    "            if j==25:\n",
    "                M[i,j]=7.5\n",
    "            if j==26:\n",
    "                M[i,j]=3.2\n",
    "            if j==27:\n",
    "                M[i,j]=3.2\n",
    "    if i ==26:\n",
    "        for j in range(28):\n",
    "            if j<=19:\n",
    "                M[i,j]=1.4\n",
    "            if j==20:\n",
    "                M[i,j]=1.7\n",
    "            if j==21:\n",
    "                M[i,j]=0.9\n",
    "            if j==22:\n",
    "                M[i,j]=1.5\n",
    "            if j==23:\n",
    "                M[i,j]=2.1\n",
    "            if j==24:\n",
    "                M[i,j]=1.8\n",
    "            if j==25:\n",
    "                M[i,j]=3.2\n",
    "            if j==26:\n",
    "                M[i,j]=7.2\n",
    "            if j==27:\n",
    "                M[i,j]=7.2\n",
    "    if i ==27:\n",
    "        for j in range(28):\n",
    "            if j<=19:\n",
    "                M[i,j]=1.4\n",
    "            if j==20:\n",
    "                M[i,j]=1.7\n",
    "            if j==21:\n",
    "                M[i,j]=0.9\n",
    "            if j==22:\n",
    "                M[i,j]=1.5\n",
    "            if j==23:\n",
    "                M[i,j]=2.1\n",
    "            if j==24:\n",
    "                M[i,j]=1.8\n",
    "            if j==25:\n",
    "                M[i,j]=3.2\n",
    "            if j==26:\n",
    "                M[i,j]=7.2\n",
    "            if j==27:\n",
    "                M[i,j]=7.2 "
   ]
  },
  {
   "cell_type": "code",
   "execution_count": 4,
   "id": "988db766",
   "metadata": {},
   "outputs": [],
   "source": [
    "B=np.zeros((6,6))"
   ]
  },
  {
   "cell_type": "code",
   "execution_count": 5,
   "id": "0bf8660b",
   "metadata": {},
   "outputs": [],
   "source": [
    "# age proportion\n",
    "\n",
    "for i in range(6):\n",
    "    if i==0:\n",
    "        B[i,0]=np.mean(M[0,0:1])\n",
    "        B[i,1]=np.mean(M[0,1:4])\n",
    "        B[i,2]=np.mean(M[0,4:21])\n",
    "        B[i,3]=np.mean(M[0,21:23])\n",
    "        B[i,4]=np.mean(M[0,23:25])\n",
    "        B[i,5]=np.mean(M[0,25:28])\n",
    "    if i==1:\n",
    "        B[i,0]=np.mean(M[1:4,0:1])\n",
    "        B[i,1]=np.mean(M[1:4,1:4])\n",
    "        B[i,2]=np.mean(M[1:4,4:21])\n",
    "        B[i,3]=np.mean(M[1:4,21:23])\n",
    "        B[i,4]=np.mean(M[1:4,23:25])\n",
    "        B[i,5]=np.mean(M[1:4,25:28])\n",
    "    if i==2:\n",
    "        B[i,0]=np.mean(M[4:21,0:1])\n",
    "        B[i,1]=np.mean(M[4:21,1:4])\n",
    "        B[i,2]=np.mean(M[4:21,4:21])\n",
    "        B[i,3]=np.mean(M[4:21,21:23])\n",
    "        B[i,4]=np.mean(M[4:21,23:25])\n",
    "        B[i,5]=np.mean(M[4:21,25:28])\n",
    "    if i==3:\n",
    "        B[i,0]=np.mean(M[21:24,0:1])\n",
    "        B[i,1]=np.mean(M[21:24,1:4])\n",
    "        B[i,2]=np.mean(M[21:24,4:21])\n",
    "        B[i,3]=np.mean(M[21:24,21:23])\n",
    "        B[i,4]=np.mean(M[21:24,23:25])\n",
    "        B[i,5]=np.mean(M[21:24,25:28])\n",
    "    if i==4:\n",
    "        B[i,0]=np.mean(M[23:26,0:1])\n",
    "        B[i,1]=np.mean(M[23:26,1:4])\n",
    "        B[i,2]=np.mean(M[23:26,4:21])\n",
    "        B[i,3]=np.mean(M[23:26,21:23])\n",
    "        B[i,4]=np.mean(M[23:26,23:25])\n",
    "        B[i,5]=np.mean(M[23:26,25:28])\n",
    "    if i==5:\n",
    "        B[i,0]=np.mean(M[25:28,0:1])\n",
    "        B[i,1]=np.mean(M[25:28,1:4])\n",
    "        B[i,2]=np.mean(M[25:28,4:21])\n",
    "        B[i,3]=np.mean(M[25:28,21:23])\n",
    "        B[i,4]=np.mean(M[25:28,23:25])\n",
    "        B[i,5]=np.mean(M[25:28,25:28])"
   ]
  },
  {
   "cell_type": "code",
   "execution_count": 6,
   "id": "8c0af219",
   "metadata": {},
   "outputs": [
    {
     "data": {
      "text/plain": [
       "array([[ 0.96      ,  0.96      ,  1.18588235,  5.05      ,  3.4       ,\n",
       "         1.7       ],\n",
       "       [ 0.96      ,  0.96      ,  1.18588235,  5.05      ,  3.4       ,\n",
       "         1.7       ],\n",
       "       [ 1.18588235,  1.18588235,  1.52858131,  5.1       ,  3.56764706,\n",
       "         1.70196078],\n",
       "       [ 4.6       ,  4.6       ,  4.70784314, 12.2       ,  8.46666667,\n",
       "         1.88888889],\n",
       "       [ 3.03333333,  3.03333333,  3.13529412,  5.95      ,  7.4       ,\n",
       "         3.08888889],\n",
       "       [ 1.7       ,  1.7       ,  1.70196078,  1.7       ,  2.31666667,\n",
       "         5.45555556]])"
      ]
     },
     "execution_count": 6,
     "metadata": {},
     "output_type": "execute_result"
    }
   ],
   "source": [
    "B"
   ]
  },
  {
   "cell_type": "code",
   "execution_count": 7,
   "id": "49aff50a",
   "metadata": {},
   "outputs": [],
   "source": [
    "# make it symmetric\n",
    "M=np.zeros((6,6))"
   ]
  },
  {
   "cell_type": "code",
   "execution_count": 8,
   "id": "f3630b91",
   "metadata": {},
   "outputs": [],
   "source": [
    "for i in range(6):\n",
    "    for j in range(6):\n",
    "        M[i,j]=(B[i,j]+B[j,i])/2"
   ]
  },
  {
   "cell_type": "code",
   "execution_count": 9,
   "id": "f0589f72",
   "metadata": {},
   "outputs": [
    {
     "data": {
      "text/plain": [
       "array([[ 0.96      ,  0.96      ,  1.18588235,  4.825     ,  3.21666667,\n",
       "         1.7       ],\n",
       "       [ 0.96      ,  0.96      ,  1.18588235,  4.825     ,  3.21666667,\n",
       "         1.7       ],\n",
       "       [ 1.18588235,  1.18588235,  1.52858131,  4.90392157,  3.35147059,\n",
       "         1.70196078],\n",
       "       [ 4.825     ,  4.825     ,  4.90392157, 12.2       ,  7.20833333,\n",
       "         1.79444444],\n",
       "       [ 3.21666667,  3.21666667,  3.35147059,  7.20833333,  7.4       ,\n",
       "         2.70277778],\n",
       "       [ 1.7       ,  1.7       ,  1.70196078,  1.79444444,  2.70277778,\n",
       "         5.45555556]])"
      ]
     },
     "execution_count": 9,
     "metadata": {},
     "output_type": "execute_result"
    }
   ],
   "source": [
    "M"
   ]
  },
  {
   "cell_type": "code",
   "execution_count": 10,
   "id": "4c75b38f",
   "metadata": {},
   "outputs": [
    {
     "data": {
      "text/html": [
       "<div>\n",
       "<style scoped>\n",
       "    .dataframe tbody tr th:only-of-type {\n",
       "        vertical-align: middle;\n",
       "    }\n",
       "\n",
       "    .dataframe tbody tr th {\n",
       "        vertical-align: top;\n",
       "    }\n",
       "\n",
       "    .dataframe thead th {\n",
       "        text-align: right;\n",
       "    }\n",
       "</style>\n",
       "<table border=\"1\" class=\"dataframe\">\n",
       "  <thead>\n",
       "    <tr style=\"text-align: right;\">\n",
       "      <th></th>\n",
       "      <th>0</th>\n",
       "      <th>1</th>\n",
       "      <th>2</th>\n",
       "      <th>3</th>\n",
       "      <th>4</th>\n",
       "      <th>5</th>\n",
       "    </tr>\n",
       "  </thead>\n",
       "  <tbody>\n",
       "    <tr>\n",
       "      <th>0</th>\n",
       "      <td>0.960000</td>\n",
       "      <td>0.960000</td>\n",
       "      <td>1.185882</td>\n",
       "      <td>4.825000</td>\n",
       "      <td>3.216667</td>\n",
       "      <td>1.700000</td>\n",
       "    </tr>\n",
       "    <tr>\n",
       "      <th>1</th>\n",
       "      <td>0.960000</td>\n",
       "      <td>0.960000</td>\n",
       "      <td>1.185882</td>\n",
       "      <td>4.825000</td>\n",
       "      <td>3.216667</td>\n",
       "      <td>1.700000</td>\n",
       "    </tr>\n",
       "    <tr>\n",
       "      <th>2</th>\n",
       "      <td>1.185882</td>\n",
       "      <td>1.185882</td>\n",
       "      <td>1.528581</td>\n",
       "      <td>4.903922</td>\n",
       "      <td>3.351471</td>\n",
       "      <td>1.701961</td>\n",
       "    </tr>\n",
       "    <tr>\n",
       "      <th>3</th>\n",
       "      <td>4.825000</td>\n",
       "      <td>4.825000</td>\n",
       "      <td>4.903922</td>\n",
       "      <td>12.200000</td>\n",
       "      <td>7.208333</td>\n",
       "      <td>1.794444</td>\n",
       "    </tr>\n",
       "    <tr>\n",
       "      <th>4</th>\n",
       "      <td>3.216667</td>\n",
       "      <td>3.216667</td>\n",
       "      <td>3.351471</td>\n",
       "      <td>7.208333</td>\n",
       "      <td>7.400000</td>\n",
       "      <td>2.702778</td>\n",
       "    </tr>\n",
       "    <tr>\n",
       "      <th>5</th>\n",
       "      <td>1.700000</td>\n",
       "      <td>1.700000</td>\n",
       "      <td>1.701961</td>\n",
       "      <td>1.794444</td>\n",
       "      <td>2.702778</td>\n",
       "      <td>5.455556</td>\n",
       "    </tr>\n",
       "  </tbody>\n",
       "</table>\n",
       "</div>"
      ],
      "text/plain": [
       "          0         1         2          3         4         5\n",
       "0  0.960000  0.960000  1.185882   4.825000  3.216667  1.700000\n",
       "1  0.960000  0.960000  1.185882   4.825000  3.216667  1.700000\n",
       "2  1.185882  1.185882  1.528581   4.903922  3.351471  1.701961\n",
       "3  4.825000  4.825000  4.903922  12.200000  7.208333  1.794444\n",
       "4  3.216667  3.216667  3.351471   7.208333  7.400000  2.702778\n",
       "5  1.700000  1.700000  1.701961   1.794444  2.702778  5.455556"
      ]
     },
     "execution_count": 10,
     "metadata": {},
     "output_type": "execute_result"
    }
   ],
   "source": [
    "output_M=pd.DataFrame(M)\n",
    "output_M"
   ]
  },
  {
   "cell_type": "code",
   "execution_count": 11,
   "id": "965a9d61",
   "metadata": {},
   "outputs": [],
   "source": [
    "output_M.to_csv(\"contact_matrix.csv\",sep=\",\")"
   ]
  },
  {
   "cell_type": "code",
   "execution_count": 12,
   "id": "57f3413c",
   "metadata": {},
   "outputs": [
    {
     "data": {
      "text/html": [
       "<div>\n",
       "<style scoped>\n",
       "    .dataframe tbody tr th:only-of-type {\n",
       "        vertical-align: middle;\n",
       "    }\n",
       "\n",
       "    .dataframe tbody tr th {\n",
       "        vertical-align: top;\n",
       "    }\n",
       "\n",
       "    .dataframe thead th {\n",
       "        text-align: right;\n",
       "    }\n",
       "</style>\n",
       "<table border=\"1\" class=\"dataframe\">\n",
       "  <thead>\n",
       "    <tr style=\"text-align: right;\">\n",
       "      <th></th>\n",
       "      <th>0-5 months</th>\n",
       "      <th>6 months-1.9 yrs</th>\n",
       "      <th>2-19 yrs</th>\n",
       "      <th>20-39 yrs</th>\n",
       "      <th>40-59 yrs</th>\n",
       "      <th>60+ yrs</th>\n",
       "    </tr>\n",
       "  </thead>\n",
       "  <tbody>\n",
       "    <tr>\n",
       "      <th>0-5 months</th>\n",
       "      <td>0.960000</td>\n",
       "      <td>0.960000</td>\n",
       "      <td>1.185882</td>\n",
       "      <td>4.825000</td>\n",
       "      <td>3.216667</td>\n",
       "      <td>1.700000</td>\n",
       "    </tr>\n",
       "    <tr>\n",
       "      <th>6 months-1.9 yrs</th>\n",
       "      <td>0.960000</td>\n",
       "      <td>0.960000</td>\n",
       "      <td>1.185882</td>\n",
       "      <td>4.825000</td>\n",
       "      <td>3.216667</td>\n",
       "      <td>1.700000</td>\n",
       "    </tr>\n",
       "    <tr>\n",
       "      <th>2-19 yrs</th>\n",
       "      <td>1.185882</td>\n",
       "      <td>1.185882</td>\n",
       "      <td>1.528581</td>\n",
       "      <td>4.903922</td>\n",
       "      <td>3.351471</td>\n",
       "      <td>1.701961</td>\n",
       "    </tr>\n",
       "    <tr>\n",
       "      <th>20-39 yrs</th>\n",
       "      <td>4.825000</td>\n",
       "      <td>4.825000</td>\n",
       "      <td>4.903922</td>\n",
       "      <td>12.200000</td>\n",
       "      <td>7.208333</td>\n",
       "      <td>1.794444</td>\n",
       "    </tr>\n",
       "    <tr>\n",
       "      <th>40-59 yrs</th>\n",
       "      <td>3.216667</td>\n",
       "      <td>3.216667</td>\n",
       "      <td>3.351471</td>\n",
       "      <td>7.208333</td>\n",
       "      <td>7.400000</td>\n",
       "      <td>2.702778</td>\n",
       "    </tr>\n",
       "    <tr>\n",
       "      <th>60+ yrs</th>\n",
       "      <td>1.700000</td>\n",
       "      <td>1.700000</td>\n",
       "      <td>1.701961</td>\n",
       "      <td>1.794444</td>\n",
       "      <td>2.702778</td>\n",
       "      <td>5.455556</td>\n",
       "    </tr>\n",
       "  </tbody>\n",
       "</table>\n",
       "</div>"
      ],
      "text/plain": [
       "                  0-5 months  6 months-1.9 yrs  2-19 yrs  20-39 yrs  \\\n",
       "0-5 months          0.960000          0.960000  1.185882   4.825000   \n",
       "6 months-1.9 yrs    0.960000          0.960000  1.185882   4.825000   \n",
       "2-19 yrs            1.185882          1.185882  1.528581   4.903922   \n",
       "20-39 yrs           4.825000          4.825000  4.903922  12.200000   \n",
       "40-59 yrs           3.216667          3.216667  3.351471   7.208333   \n",
       "60+ yrs             1.700000          1.700000  1.701961   1.794444   \n",
       "\n",
       "                  40-59 yrs   60+ yrs  \n",
       "0-5 months         3.216667  1.700000  \n",
       "6 months-1.9 yrs   3.216667  1.700000  \n",
       "2-19 yrs           3.351471  1.701961  \n",
       "20-39 yrs          7.208333  1.794444  \n",
       "40-59 yrs          7.400000  2.702778  \n",
       "60+ yrs            2.702778  5.455556  "
      ]
     },
     "execution_count": 12,
     "metadata": {},
     "output_type": "execute_result"
    }
   ],
   "source": [
    "output_M.columns=[\"0-5 months\",\"6 months-1.9 yrs\", \"2-19 yrs\",\"20-39 yrs\",\"40-59 yrs\",\"60+ yrs\"]\n",
    "output_M.set_axis([\"0-5 months\",\"6 months-1.9 yrs\", \"2-19 yrs\",\"20-39 yrs\",\"40-59 yrs\",\"60+ yrs\"],axis=0)"
   ]
  },
  {
   "cell_type": "code",
   "execution_count": 13,
   "id": "cfdfd090",
   "metadata": {},
   "outputs": [],
   "source": [
    "import matplotlib.pyplot as plt\n",
    "import seaborn as sb"
   ]
  },
  {
   "cell_type": "code",
   "execution_count": 15,
   "id": "2f4f828b",
   "metadata": {},
   "outputs": [
    {
     "data": {
      "image/png": "[encoded data removed]",
      "text/plain": [
       "<Figure size 432x288 with 1 Axes>"
      ]
     },
     "metadata": {
      "needs_background": "light"
     },
     "output_type": "display_data"
    },
    {
     "data": {
      "text/plain": [
       "<Figure size 1440x2520 with 0 Axes>"
      ]
     },
     "metadata": {},
     "output_type": "display_data"
    }
   ],
   "source": [
    "# plot heatmap\n",
    "# label\n",
    "x_axis_labels=[\"0-5 months\",\"6 months-1.9 yrs\", \"2-19 yrs\",\"20-39 yrs\",\"40-59 yrs\",\"60+ yrs\"]\n",
    "y_axis_labels=[\"0-5 months\",\"6 months-1.9 yrs\", \"2-19 yrs\",\"20-39 yrs\",\"40-59 yrs\",\"60+ yrs\"]\n",
    "figure_=sb.heatmap(output_M, cmap=\"Blues\",\n",
    "           annot=True,xticklabels=x_axis_labels,yticklabels=y_axis_labels, cbar=False)\n",
    "plt.figure(figsize=(20,35))\n",
    "output_figure=figure_.get_figure()\n",
    "output_figure.savefig('our_contact_matrix.png', dpi=1200)"
   ]
  },
  {
   "cell_type": "code",
   "execution_count": 16,
   "id": "88d600dc",
   "metadata": {},
   "outputs": [],
   "source": [
    "# US proportion\n",
    "us_prop=pd.read_csv(\"us_prop_2019.csv\")"
   ]
  },
  {
   "cell_type": "code",
   "execution_count": 17,
   "id": "1bdda4bb",
   "metadata": {},
   "outputs": [
    {
     "data": {
      "text/html": [
       "<div>\n",
       "<style scoped>\n",
       "    .dataframe tbody tr th:only-of-type {\n",
       "        vertical-align: middle;\n",
       "    }\n",
       "\n",
       "    .dataframe tbody tr th {\n",
       "        vertical-align: top;\n",
       "    }\n",
       "\n",
       "    .dataframe thead th {\n",
       "        text-align: right;\n",
       "    }\n",
       "</style>\n",
       "<table border=\"1\" class=\"dataframe\">\n",
       "  <thead>\n",
       "    <tr style=\"text-align: right;\">\n",
       "      <th></th>\n",
       "      <th>age</th>\n",
       "      <th>male</th>\n",
       "      <th>female</th>\n",
       "    </tr>\n",
       "  </thead>\n",
       "  <tbody>\n",
       "    <tr>\n",
       "      <th>0</th>\n",
       "      <td>0</td>\n",
       "      <td>0.59%</td>\n",
       "      <td>0.56%</td>\n",
       "    </tr>\n",
       "    <tr>\n",
       "      <th>1</th>\n",
       "      <td>1</td>\n",
       "      <td>0.60%</td>\n",
       "      <td>0.57%</td>\n",
       "    </tr>\n",
       "    <tr>\n",
       "      <th>2</th>\n",
       "      <td>2</td>\n",
       "      <td>0.61%</td>\n",
       "      <td>0.58%</td>\n",
       "    </tr>\n",
       "    <tr>\n",
       "      <th>3</th>\n",
       "      <td>3</td>\n",
       "      <td>0.62%</td>\n",
       "      <td>0.60%</td>\n",
       "    </tr>\n",
       "    <tr>\n",
       "      <th>4</th>\n",
       "      <td>4</td>\n",
       "      <td>0.63%</td>\n",
       "      <td>0.60%</td>\n",
       "    </tr>\n",
       "    <tr>\n",
       "      <th>...</th>\n",
       "      <td>...</td>\n",
       "      <td>...</td>\n",
       "      <td>...</td>\n",
       "    </tr>\n",
       "    <tr>\n",
       "      <th>96</th>\n",
       "      <td>96</td>\n",
       "      <td>0.01%</td>\n",
       "      <td>0.03%</td>\n",
       "    </tr>\n",
       "    <tr>\n",
       "      <th>97</th>\n",
       "      <td>97</td>\n",
       "      <td>0.01%</td>\n",
       "      <td>0.03%</td>\n",
       "    </tr>\n",
       "    <tr>\n",
       "      <th>98</th>\n",
       "      <td>98</td>\n",
       "      <td>0.01%</td>\n",
       "      <td>0.02%</td>\n",
       "    </tr>\n",
       "    <tr>\n",
       "      <th>99</th>\n",
       "      <td>99</td>\n",
       "      <td>0.00%</td>\n",
       "      <td>0.01%</td>\n",
       "    </tr>\n",
       "    <tr>\n",
       "      <th>100</th>\n",
       "      <td>100+</td>\n",
       "      <td>0.01%</td>\n",
       "      <td>0.02%</td>\n",
       "    </tr>\n",
       "  </tbody>\n",
       "</table>\n",
       "<p>101 rows × 3 columns</p>\n",
       "</div>"
      ],
      "text/plain": [
       "      age   male female\n",
       "0       0  0.59%  0.56%\n",
       "1       1  0.60%  0.57%\n",
       "2       2  0.61%  0.58%\n",
       "3       3  0.62%  0.60%\n",
       "4       4  0.63%  0.60%\n",
       "..    ...    ...    ...\n",
       "96     96  0.01%  0.03%\n",
       "97     97  0.01%  0.03%\n",
       "98     98  0.01%  0.02%\n",
       "99     99  0.00%  0.01%\n",
       "100  100+  0.01%  0.02%\n",
       "\n",
       "[101 rows x 3 columns]"
      ]
     },
     "execution_count": 17,
     "metadata": {},
     "output_type": "execute_result"
    }
   ],
   "source": [
    "us_prop"
   ]
  },
  {
   "cell_type": "code",
   "execution_count": 18,
   "id": "b4ec09e0",
   "metadata": {},
   "outputs": [],
   "source": [
    "# preprocess\n",
    "\n",
    "us_prop[\"male\"]=us_prop[\"male\"].replace(\"%\",\"\",regex=True)\n",
    "us_prop[\"female\"]=us_prop[\"female\"].replace(\"%\",\"\",regex=True)\n",
    "us_prop[\"male\"]=pd.to_numeric(us_prop[\"male\"],downcast=\"float\")\n",
    "us_prop[\"female\"]=pd.to_numeric(us_prop[\"female\"],downcast=\"float\")\n",
    "\n",
    "# \n",
    "us_prop[\"prop_for_each_age\"]=(us_prop[\"male\"] + us_prop[\"female\"])/100"
   ]
  },
  {
   "cell_type": "code",
   "execution_count": 19,
   "id": "10df6054",
   "metadata": {},
   "outputs": [],
   "source": [
    "proportion=np.zeros((6,6))"
   ]
  },
  {
   "cell_type": "code",
   "execution_count": 20,
   "id": "c8b86347",
   "metadata": {},
   "outputs": [],
   "source": [
    "# 0-6 months\n",
    "proportion[0,0]=us_prop[\"prop_for_each_age\"][0]/2\n",
    "\n",
    "# 6m -1.9 years\n",
    "proportion[1,1]=us_prop[\"prop_for_each_age\"][0]/2 + us_prop[\"prop_for_each_age\"][1]\n",
    "\n",
    "# 2-19 years\n",
    "proportion[2,2]=us_prop[\"prop_for_each_age\"][2:20].sum()\n",
    "\n",
    "# 20- 39 years\n",
    "proportion[3,3]=us_prop[\"prop_for_each_age\"][20:40].sum()\n",
    "\n",
    "# 40- 59 years\n",
    "proportion[4,4]=us_prop[\"prop_for_each_age\"][40:60].sum()\n",
    "\n",
    "# 60 + years\n",
    "proportion[5,5]=us_prop[\"prop_for_each_age\"][60:].sum()"
   ]
  },
  {
   "cell_type": "code",
   "execution_count": 21,
   "id": "b4296eb9",
   "metadata": {},
   "outputs": [
    {
     "data": {
      "text/plain": [
       "array([[0.00575   , 0.        , 0.        , 0.        , 0.        ,\n",
       "        0.        ],\n",
       "       [0.        , 0.01745   , 0.        , 0.        , 0.        ,\n",
       "        0.        ],\n",
       "       [0.        , 0.        , 0.22529998, 0.        , 0.        ,\n",
       "        0.        ],\n",
       "       [0.        , 0.        , 0.        , 0.27199998, 0.        ,\n",
       "        0.        ],\n",
       "       [0.        , 0.        , 0.        , 0.        , 0.2518    ,\n",
       "        0.        ],\n",
       "       [0.        , 0.        , 0.        , 0.        , 0.        ,\n",
       "        0.2273    ]])"
      ]
     },
     "execution_count": 21,
     "metadata": {},
     "output_type": "execute_result"
    }
   ],
   "source": [
    "proportion"
   ]
  },
  {
   "cell_type": "code",
   "execution_count": 22,
   "id": "14ff0acc",
   "metadata": {},
   "outputs": [],
   "source": [
    "C=np.matmul(M,proportion)"
   ]
  },
  {
   "cell_type": "code",
   "execution_count": 23,
   "id": "aa655a27",
   "metadata": {},
   "outputs": [],
   "source": [
    "from numpy import linalg as LA"
   ]
  },
  {
   "cell_type": "code",
   "execution_count": 24,
   "id": "1bcf215b",
   "metadata": {},
   "outputs": [
    {
     "data": {
      "text/plain": [
       "array([ 5.27035315e+00,  1.20786263e+00,  4.59745461e-01, -1.54510996e-01,\n",
       "        5.99194608e-18,  4.97872392e-03])"
      ]
     },
     "execution_count": 24,
     "metadata": {},
     "output_type": "execute_result"
    }
   ],
   "source": [
    "w,v=LA.eig(C)\n",
    "w"
   ]
  },
  {
   "cell_type": "code",
   "execution_count": 25,
   "id": "84cb7c98",
   "metadata": {},
   "outputs": [
    {
     "data": {
      "text/plain": [
       "array([[-2.78310323e-01, -3.40326935e-02, -1.36013616e-01,\n",
       "         6.31407239e-01, -9.49766238e-01, -7.03255472e-01],\n",
       "       [-2.78310323e-01, -3.40326935e-02, -1.36013616e-01,\n",
       "         6.31407239e-01,  3.12960211e-01, -7.03255472e-01],\n",
       "       [-2.88858808e-01, -3.58476856e-02, -1.17357780e-01,\n",
       "         4.23943054e-01,  1.45518083e-16,  1.03740516e-01],\n",
       "       [-6.86655909e-01,  3.65385316e-01, -4.03243844e-01,\n",
       "        -1.28244686e-01, -2.16008195e-18, -8.22066429e-03],\n",
       "       [-5.00963349e-01, -1.96947752e-01,  8.00658644e-01,\n",
       "        -3.53777244e-02, -7.06690370e-17, -3.77601817e-03],\n",
       "       [-1.97956319e-01, -9.07801547e-01, -3.81533592e-01,\n",
       "        -7.22758739e-02, -1.91401261e-18, -4.42150571e-03]])"
      ]
     },
     "execution_count": 25,
     "metadata": {},
     "output_type": "execute_result"
    }
   ],
   "source": [
    "v"
   ]
  },
  {
   "cell_type": "code",
   "execution_count": 26,
   "id": "03a199c7",
   "metadata": {},
   "outputs": [
    {
     "data": {
      "text/plain": [
       "5.270353145572613"
      ]
     },
     "execution_count": 26,
     "metadata": {},
     "output_type": "execute_result"
    }
   ],
   "source": [
    "# dominant eiganvalue is \n",
    "w[0]"
   ]
  },
  {
   "cell_type": "code",
   "execution_count": 27,
   "id": "47c01f1a",
   "metadata": {},
   "outputs": [
    {
     "data": {
      "text/plain": [
       "array([-0.27831032, -0.27831032, -0.28885881, -0.68665591, -0.50096335,\n",
       "       -0.19795632])"
      ]
     },
     "execution_count": 27,
     "metadata": {},
     "output_type": "execute_result"
    }
   ],
   "source": [
    "# corresponding eiganvector is\n",
    "v[:,0]"
   ]
  },
  {
   "cell_type": "code",
   "execution_count": 28,
   "id": "639f3514",
   "metadata": {},
   "outputs": [
    {
     "data": {
      "text/plain": [
       "0.06776450216488374"
      ]
     },
     "execution_count": 28,
     "metadata": {},
     "output_type": "execute_result"
    }
   ],
   "source": [
    "# beta\n",
    "eiganvalue=w[0]\n",
    "R_0=5\n",
    "gamma=1/14\n",
    "beta=R_0 * gamma/eiganvalue\n",
    "beta"
   ]
  },
  {
   "cell_type": "code",
   "execution_count": null,
   "id": "5eba597a",
   "metadata": {},
   "outputs": [],
   "source": []
  }
 ],
 "metadata": {
  "kernelspec": {
   "display_name": "Python 3",
   "language": "python",
   "name": "python3"
  },
  "language_info": {
   "codemirror_mode": {
    "name": "ipython",
    "version": 3
   },
   "file_extension": ".py",
   "mimetype": "text/x-python",
   "name": "python",
   "nbconvert_exporter": "python",
   "pygments_lexer": "ipython3",
   "version": "3.8.8"
  }
 },
 "nbformat": 4,
 "nbformat_minor": 5
}

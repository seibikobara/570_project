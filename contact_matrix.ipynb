{
 "cells": [
  {
   "cell_type": "code",
   "execution_count": 170,
   "id": "c8ffadfc",
   "metadata": {},
   "outputs": [],
   "source": [
    "import numpy as np"
   ]
  },
  {
   "cell_type": "code",
   "execution_count": 171,
   "id": "14aa47de",
   "metadata": {},
   "outputs": [],
   "source": [
    "M=np.zeros((28,28))"
   ]
  },
  {
   "cell_type": "code",
   "execution_count": 172,
   "id": "486adef3",
   "metadata": {},
   "outputs": [],
   "source": [
    "for i in range(28):\n",
    "    if i <=19 :\n",
    "        for j in range(28):\n",
    "            if j <=19:\n",
    "                M[i,j]=19.2/20\n",
    "            if j==20:\n",
    "                M[i,j]=4.8\n",
    "            if j==21:\n",
    "                M[i,j]=3.0\n",
    "            if j==22:\n",
    "                M[i,j]=7.1\n",
    "            if j==23:\n",
    "                M[i,j]=3.7\n",
    "            if j==24:\n",
    "                M[i,j]=3.1\n",
    "            if j==25:\n",
    "                M[i,j]=2.3\n",
    "            if j==26:\n",
    "                M[i,j]=1.4\n",
    "            if j==27:\n",
    "                M[i,j]=1.4\n",
    "    if i ==20:\n",
    "        for j in range(28):\n",
    "            if j<=19:\n",
    "                M[i,j]=4.8\n",
    "            if j==20:\n",
    "                M[i,j]=42.4\n",
    "            if j==21:\n",
    "                M[i,j]=6.4\n",
    "            if j==22:\n",
    "                M[i,j]=5.4\n",
    "            if j==23:\n",
    "                M[i,j]=7.5\n",
    "            if j==24:\n",
    "                M[i,j]=5.0\n",
    "            if j==25:\n",
    "                M[i,j]=1.8\n",
    "            if j==26:\n",
    "                M[i,j]=1.7\n",
    "            if j==27:\n",
    "                M[i,j]=1.7\n",
    "    if i ==21:\n",
    "        for j in range(28):\n",
    "            if j<=19:\n",
    "                M[i,j]=3.0\n",
    "            if j==20:\n",
    "                M[i,j]=6.4\n",
    "            if j==21:\n",
    "                M[i,j]=20.7\n",
    "            if j==22:\n",
    "                M[i,j]=9.2\n",
    "            if j==23:\n",
    "                M[i,j]=7.1\n",
    "            if j==24:\n",
    "                M[i,j]=6.3\n",
    "            if j==25:\n",
    "                M[i,j]=2.0\n",
    "            if j==26:\n",
    "                M[i,j]=0.9\n",
    "            if j==27:\n",
    "                M[i,j]=0.9\n",
    "    if i ==22:\n",
    "        for j in range(28):\n",
    "            if j<=19:\n",
    "                M[i,j]=7.1\n",
    "            if j==20:\n",
    "                M[i,j]=5.4\n",
    "            if j==21:\n",
    "                M[i,j]=9.2\n",
    "            if j==22:\n",
    "                M[i,j]=16.9\n",
    "            if j==23:\n",
    "                M[i,j]=10.1\n",
    "            if j==24:\n",
    "                M[i,j]=6.8\n",
    "            if j==25:\n",
    "                M[i,j]=3.4\n",
    "            if j==26:\n",
    "                M[i,j]=1.5\n",
    "            if j==27:\n",
    "                M[i,j]=1.5\n",
    "    if i ==23:\n",
    "        for j in range(28):\n",
    "            if j<=19:\n",
    "                M[i,j]=3.7\n",
    "            if j==20:\n",
    "                M[i,j]=7.5\n",
    "            if j==21:\n",
    "                M[i,j]=7.1\n",
    "            if j==22:\n",
    "                M[i,j]=10.1\n",
    "            if j==23:\n",
    "                M[i,j]=13.1\n",
    "            if j==24:\n",
    "                M[i,j]=7.4\n",
    "            if j==25:\n",
    "                M[i,j]=2.6\n",
    "            if j==26:\n",
    "                M[i,j]=2.1\n",
    "            if j==27:\n",
    "                M[i,j]=2.1\n",
    "    if i ==24:\n",
    "        for j in range(28):\n",
    "            if j<=19:\n",
    "                M[i,j]=3.1\n",
    "            if j==20:\n",
    "                M[i,j]=5.0\n",
    "            if j==21:\n",
    "                M[i,j]=6.3\n",
    "            if j==22:\n",
    "                M[i,j]=6.8\n",
    "            if j==23:\n",
    "                M[i,j]=7.4\n",
    "            if j==24:\n",
    "                M[i,j]=10.4\n",
    "            if j==25:\n",
    "                M[i,j]=3.5\n",
    "            if j==26:\n",
    "                M[i,j]=1.8\n",
    "            if j==27:\n",
    "                M[i,j]=1.8 \n",
    "    if i ==25:\n",
    "        for j in range(28):\n",
    "            if j<=19:\n",
    "                M[i,j]=2.3\n",
    "            if j==20:\n",
    "                M[i,j]=1.8\n",
    "            if j==21:\n",
    "                M[i,j]=2.0\n",
    "            if j==22:\n",
    "                M[i,j]=3.4\n",
    "            if j==23:\n",
    "                M[i,j]=2.6\n",
    "            if j==24:\n",
    "                M[i,j]=3.5\n",
    "            if j==25:\n",
    "                M[i,j]=7.5\n",
    "            if j==26:\n",
    "                M[i,j]=3.2\n",
    "            if j==27:\n",
    "                M[i,j]=3.2\n",
    "    if i ==26:\n",
    "        for j in range(28):\n",
    "            if j<=19:\n",
    "                M[i,j]=1.4\n",
    "            if j==20:\n",
    "                M[i,j]=1.7\n",
    "            if j==21:\n",
    "                M[i,j]=0.9\n",
    "            if j==22:\n",
    "                M[i,j]=1.5\n",
    "            if j==23:\n",
    "                M[i,j]=2.1\n",
    "            if j==24:\n",
    "                M[i,j]=1.8\n",
    "            if j==25:\n",
    "                M[i,j]=3.2\n",
    "            if j==26:\n",
    "                M[i,j]=7.2\n",
    "            if j==27:\n",
    "                M[i,j]=7.2\n",
    "    if i ==27:\n",
    "        for j in range(28):\n",
    "            if j<=19:\n",
    "                M[i,j]=1.4\n",
    "            if j==20:\n",
    "                M[i,j]=1.7\n",
    "            if j==21:\n",
    "                M[i,j]=0.9\n",
    "            if j==22:\n",
    "                M[i,j]=1.5\n",
    "            if j==23:\n",
    "                M[i,j]=2.1\n",
    "            if j==24:\n",
    "                M[i,j]=1.8\n",
    "            if j==25:\n",
    "                M[i,j]=3.2\n",
    "            if j==26:\n",
    "                M[i,j]=7.2\n",
    "            if j==27:\n",
    "                M[i,j]=7.2 "
   ]
  },
  {
   "cell_type": "code",
   "execution_count": 173,
   "id": "988db766",
   "metadata": {},
   "outputs": [],
   "source": [
    "B=np.zeros((6,6))"
   ]
  },
  {
   "cell_type": "code",
   "execution_count": 174,
   "id": "0bf8660b",
   "metadata": {},
   "outputs": [],
   "source": [
    "# age proportion\n",
    "\n",
    "for i in range(6):\n",
    "    if i==0:\n",
    "        B[i,0]=np.mean(M[0,0:1])\n",
    "        B[i,1]=np.mean(M[0,1:4])\n",
    "        B[i,2]=np.mean(M[0,4:21])\n",
    "        B[i,3]=np.mean(M[0,21:23])\n",
    "        B[i,4]=np.mean(M[0,23:25])\n",
    "        B[i,5]=np.mean(M[0,25:28])\n",
    "    if i==1:\n",
    "        B[i,0]=np.mean(M[1:4,0:1])\n",
    "        B[i,1]=np.mean(M[1:4,1:4])\n",
    "        B[i,2]=np.mean(M[1:4,4:21])\n",
    "        B[i,3]=np.mean(M[1:4,21:23])\n",
    "        B[i,4]=np.mean(M[1:4,23:25])\n",
    "        B[i,5]=np.mean(M[1:4,25:28])\n",
    "    if i==2:\n",
    "        B[i,0]=np.mean(M[4:21,0:1])\n",
    "        B[i,1]=np.mean(M[4:21,1:4])\n",
    "        B[i,2]=np.mean(M[4:21,4:21])\n",
    "        B[i,3]=np.mean(M[4:21,21:23])\n",
    "        B[i,4]=np.mean(M[4:21,23:25])\n",
    "        B[i,5]=np.mean(M[4:21,25:28])\n",
    "    if i==3:\n",
    "        B[i,0]=np.mean(M[21:24,0:1])\n",
    "        B[i,1]=np.mean(M[21:24,1:4])\n",
    "        B[i,2]=np.mean(M[21:24,4:21])\n",
    "        B[i,3]=np.mean(M[21:24,21:23])\n",
    "        B[i,4]=np.mean(M[21:24,23:25])\n",
    "        B[i,5]=np.mean(M[21:24,25:28])\n",
    "    if i==4:\n",
    "        B[i,0]=np.mean(M[23:26,0:1])\n",
    "        B[i,1]=np.mean(M[23:26,1:4])\n",
    "        B[i,2]=np.mean(M[23:26,4:21])\n",
    "        B[i,3]=np.mean(M[23:26,21:23])\n",
    "        B[i,4]=np.mean(M[23:26,23:25])\n",
    "        B[i,5]=np.mean(M[23:26,25:28])\n",
    "    if i==5:\n",
    "        B[i,0]=np.mean(M[25:28,0:1])\n",
    "        B[i,1]=np.mean(M[25:28,1:4])\n",
    "        B[i,2]=np.mean(M[25:28,4:21])\n",
    "        B[i,3]=np.mean(M[25:28,21:23])\n",
    "        B[i,4]=np.mean(M[25:28,23:25])\n",
    "        B[i,5]=np.mean(M[25:28,25:28])"
   ]
  },
  {
   "cell_type": "code",
   "execution_count": 175,
   "id": "965a9d61",
   "metadata": {},
   "outputs": [],
   "source": [
    "output_B=pd.DataFrame(B)\n",
    "# output_B.to_csv(\"contact_matrix.csv\",sep=\",\")"
   ]
  },
  {
   "cell_type": "code",
   "execution_count": 176,
   "id": "8555818e",
   "metadata": {},
   "outputs": [
    {
     "data": {
      "text/html": [
       "<div>\n",
       "<style scoped>\n",
       "    .dataframe tbody tr th:only-of-type {\n",
       "        vertical-align: middle;\n",
       "    }\n",
       "\n",
       "    .dataframe tbody tr th {\n",
       "        vertical-align: top;\n",
       "    }\n",
       "\n",
       "    .dataframe thead th {\n",
       "        text-align: right;\n",
       "    }\n",
       "</style>\n",
       "<table border=\"1\" class=\"dataframe\">\n",
       "  <thead>\n",
       "    <tr style=\"text-align: right;\">\n",
       "      <th></th>\n",
       "      <th>0</th>\n",
       "      <th>1</th>\n",
       "      <th>2</th>\n",
       "      <th>3</th>\n",
       "      <th>4</th>\n",
       "      <th>5</th>\n",
       "    </tr>\n",
       "  </thead>\n",
       "  <tbody>\n",
       "    <tr>\n",
       "      <th>0</th>\n",
       "      <td>0.960000</td>\n",
       "      <td>0.960000</td>\n",
       "      <td>1.185882</td>\n",
       "      <td>5.05</td>\n",
       "      <td>3.400000</td>\n",
       "      <td>1.700000</td>\n",
       "    </tr>\n",
       "    <tr>\n",
       "      <th>1</th>\n",
       "      <td>0.960000</td>\n",
       "      <td>0.960000</td>\n",
       "      <td>1.185882</td>\n",
       "      <td>5.05</td>\n",
       "      <td>3.400000</td>\n",
       "      <td>1.700000</td>\n",
       "    </tr>\n",
       "    <tr>\n",
       "      <th>2</th>\n",
       "      <td>1.185882</td>\n",
       "      <td>1.185882</td>\n",
       "      <td>1.528581</td>\n",
       "      <td>5.10</td>\n",
       "      <td>3.567647</td>\n",
       "      <td>1.701961</td>\n",
       "    </tr>\n",
       "    <tr>\n",
       "      <th>3</th>\n",
       "      <td>4.600000</td>\n",
       "      <td>4.600000</td>\n",
       "      <td>4.707843</td>\n",
       "      <td>12.20</td>\n",
       "      <td>8.466667</td>\n",
       "      <td>1.888889</td>\n",
       "    </tr>\n",
       "    <tr>\n",
       "      <th>4</th>\n",
       "      <td>3.033333</td>\n",
       "      <td>3.033333</td>\n",
       "      <td>3.135294</td>\n",
       "      <td>5.95</td>\n",
       "      <td>7.400000</td>\n",
       "      <td>3.088889</td>\n",
       "    </tr>\n",
       "    <tr>\n",
       "      <th>5</th>\n",
       "      <td>1.700000</td>\n",
       "      <td>1.700000</td>\n",
       "      <td>1.701961</td>\n",
       "      <td>1.70</td>\n",
       "      <td>2.316667</td>\n",
       "      <td>5.455556</td>\n",
       "    </tr>\n",
       "  </tbody>\n",
       "</table>\n",
       "</div>"
      ],
      "text/plain": [
       "          0         1         2      3         4         5\n",
       "0  0.960000  0.960000  1.185882   5.05  3.400000  1.700000\n",
       "1  0.960000  0.960000  1.185882   5.05  3.400000  1.700000\n",
       "2  1.185882  1.185882  1.528581   5.10  3.567647  1.701961\n",
       "3  4.600000  4.600000  4.707843  12.20  8.466667  1.888889\n",
       "4  3.033333  3.033333  3.135294   5.95  7.400000  3.088889\n",
       "5  1.700000  1.700000  1.701961   1.70  2.316667  5.455556"
      ]
     },
     "execution_count": 176,
     "metadata": {},
     "output_type": "execute_result"
    }
   ],
   "source": [
    "output_B"
   ]
  },
  {
   "cell_type": "code",
   "execution_count": 177,
   "id": "57f3413c",
   "metadata": {},
   "outputs": [
    {
     "data": {
      "text/html": [
       "<div>\n",
       "<style scoped>\n",
       "    .dataframe tbody tr th:only-of-type {\n",
       "        vertical-align: middle;\n",
       "    }\n",
       "\n",
       "    .dataframe tbody tr th {\n",
       "        vertical-align: top;\n",
       "    }\n",
       "\n",
       "    .dataframe thead th {\n",
       "        text-align: right;\n",
       "    }\n",
       "</style>\n",
       "<table border=\"1\" class=\"dataframe\">\n",
       "  <thead>\n",
       "    <tr style=\"text-align: right;\">\n",
       "      <th></th>\n",
       "      <th>0-5 months</th>\n",
       "      <th>6 months-1.9 yrs</th>\n",
       "      <th>2-19 yrs</th>\n",
       "      <th>20-39 yrs</th>\n",
       "      <th>40-59 yrs</th>\n",
       "      <th>60+ yrs</th>\n",
       "    </tr>\n",
       "  </thead>\n",
       "  <tbody>\n",
       "    <tr>\n",
       "      <th>0-5 months</th>\n",
       "      <td>0.960000</td>\n",
       "      <td>0.960000</td>\n",
       "      <td>1.185882</td>\n",
       "      <td>5.05</td>\n",
       "      <td>3.400000</td>\n",
       "      <td>1.700000</td>\n",
       "    </tr>\n",
       "    <tr>\n",
       "      <th>6 months-1.9 yrs</th>\n",
       "      <td>0.960000</td>\n",
       "      <td>0.960000</td>\n",
       "      <td>1.185882</td>\n",
       "      <td>5.05</td>\n",
       "      <td>3.400000</td>\n",
       "      <td>1.700000</td>\n",
       "    </tr>\n",
       "    <tr>\n",
       "      <th>2-19 yrs</th>\n",
       "      <td>1.185882</td>\n",
       "      <td>1.185882</td>\n",
       "      <td>1.528581</td>\n",
       "      <td>5.10</td>\n",
       "      <td>3.567647</td>\n",
       "      <td>1.701961</td>\n",
       "    </tr>\n",
       "    <tr>\n",
       "      <th>20-39 yrs</th>\n",
       "      <td>4.600000</td>\n",
       "      <td>4.600000</td>\n",
       "      <td>4.707843</td>\n",
       "      <td>12.20</td>\n",
       "      <td>8.466667</td>\n",
       "      <td>1.888889</td>\n",
       "    </tr>\n",
       "    <tr>\n",
       "      <th>40-59 yrs</th>\n",
       "      <td>3.033333</td>\n",
       "      <td>3.033333</td>\n",
       "      <td>3.135294</td>\n",
       "      <td>5.95</td>\n",
       "      <td>7.400000</td>\n",
       "      <td>3.088889</td>\n",
       "    </tr>\n",
       "    <tr>\n",
       "      <th>60+ yrs</th>\n",
       "      <td>1.700000</td>\n",
       "      <td>1.700000</td>\n",
       "      <td>1.701961</td>\n",
       "      <td>1.70</td>\n",
       "      <td>2.316667</td>\n",
       "      <td>5.455556</td>\n",
       "    </tr>\n",
       "  </tbody>\n",
       "</table>\n",
       "</div>"
      ],
      "text/plain": [
       "                  0-5 months  6 months-1.9 yrs  2-19 yrs  20-39 yrs  \\\n",
       "0-5 months          0.960000          0.960000  1.185882       5.05   \n",
       "6 months-1.9 yrs    0.960000          0.960000  1.185882       5.05   \n",
       "2-19 yrs            1.185882          1.185882  1.528581       5.10   \n",
       "20-39 yrs           4.600000          4.600000  4.707843      12.20   \n",
       "40-59 yrs           3.033333          3.033333  3.135294       5.95   \n",
       "60+ yrs             1.700000          1.700000  1.701961       1.70   \n",
       "\n",
       "                  40-59 yrs   60+ yrs  \n",
       "0-5 months         3.400000  1.700000  \n",
       "6 months-1.9 yrs   3.400000  1.700000  \n",
       "2-19 yrs           3.567647  1.701961  \n",
       "20-39 yrs          8.466667  1.888889  \n",
       "40-59 yrs          7.400000  3.088889  \n",
       "60+ yrs            2.316667  5.455556  "
      ]
     },
     "execution_count": 177,
     "metadata": {},
     "output_type": "execute_result"
    }
   ],
   "source": [
    "output_B.columns=[\"0-5 months\",\"6 months-1.9 yrs\", \"2-19 yrs\",\"20-39 yrs\",\"40-59 yrs\",\"60+ yrs\"]\n",
    "output_B.set_axis([\"0-5 months\",\"6 months-1.9 yrs\", \"2-19 yrs\",\"20-39 yrs\",\"40-59 yrs\",\"60+ yrs\"],axis=0)"
   ]
  },
  {
   "cell_type": "code",
   "execution_count": 107,
   "id": "cfdfd090",
   "metadata": {},
   "outputs": [],
   "source": [
    "import matplotlib.pyplot as plt\n",
    "import seaborn as sb"
   ]
  },
  {
   "cell_type": "code",
   "execution_count": 169,
   "id": "2f4f828b",
   "metadata": {},
   "outputs": [
    {
     "data": {
      "image/png": "[encoded data removed]",
      "text/plain": [
       "<Figure size 432x288 with 1 Axes>"
      ]
     },
     "metadata": {
      "needs_background": "light"
     },
     "output_type": "display_data"
    },
    {
     "data": {
      "text/plain": [
       "<Figure size 1440x2520 with 0 Axes>"
      ]
     },
     "metadata": {},
     "output_type": "display_data"
    }
   ],
   "source": [
    "# plot heatmap\n",
    "# label\n",
    "x_axis_labels=[\"0-5 months\",\"6 months-1.9 yrs\", \"2-19 yrs\",\"20-39 yrs\",\"40-59 yrs\",\"60+ yrs\"]\n",
    "y_axis_labels=[\"0-5 months\",\"6 months-1.9 yrs\", \"2-19 yrs\",\"20-39 yrs\",\"40-59 yrs\",\"60+ yrs\"]\n",
    "figure_=sb.heatmap(output_B, cmap=\"Blues\",\n",
    "           annot=True,xticklabels=x_axis_labels,yticklabels=y_axis_labels, cbar=False)\n",
    "plt.figure(figsize=(20,35))\n",
    "output_figure=figure_.get_figure()\n",
    "output_figure.savefig('our_coontact_matrix.png', dpi=1200)"
   ]
  },
  {
   "cell_type": "code",
   "execution_count": 178,
   "id": "c8b86347",
   "metadata": {},
   "outputs": [],
   "source": [
    "proportion=np.zeros((6,6))"
   ]
  },
  {
   "cell_type": "code",
   "execution_count": 179,
   "id": "87343d7f",
   "metadata": {},
   "outputs": [],
   "source": [
    "proportion[0,0]=0.05\n",
    "proportion[1,1]=0.2\n",
    "proportion[2,2]=0.3\n",
    "proportion[3,3]=0.3\n",
    "proportion[4,4]=0.1\n",
    "proportion[5,5]=0.05"
   ]
  },
  {
   "cell_type": "code",
   "execution_count": 180,
   "id": "14ff0acc",
   "metadata": {},
   "outputs": [],
   "source": [
    "C=np.matmul(B,proportion)"
   ]
  },
  {
   "cell_type": "code",
   "execution_count": 181,
   "id": "aa655a27",
   "metadata": {},
   "outputs": [],
   "source": [
    "from numpy import linalg as LA"
   ]
  },
  {
   "cell_type": "code",
   "execution_count": 182,
   "id": "1bcf215b",
   "metadata": {},
   "outputs": [
    {
     "data": {
      "text/plain": [
       "array([ 5.15141591e+00, -3.60989103e-01,  3.69147631e-01,  8.76347967e-17,\n",
       "        2.49612897e-02,  1.86816440e-01])"
      ]
     },
     "execution_count": 182,
     "metadata": {},
     "output_type": "execute_result"
    }
   ],
   "source": [
    "w,v=LA.eig(C)\n",
    "w"
   ]
  },
  {
   "cell_type": "code",
   "execution_count": 183,
   "id": "84cb7c98",
   "metadata": {},
   "outputs": [
    {
     "data": {
      "text/plain": [
       "array([[-2.82706276e-01,  5.40812453e-01,  1.79716700e-02,\n",
       "        -9.70142500e-01, -5.51098336e-01,  6.97053126e-02],\n",
       "       [-2.82706276e-01,  5.40812453e-01,  1.79716700e-02,\n",
       "         2.42535625e-01, -5.51098336e-01,  6.97053126e-02],\n",
       "       [-2.95229899e-01,  3.72507076e-01, -6.38567390e-03,\n",
       "         3.19496630e-15,  6.02929343e-01,  6.97533876e-02],\n",
       "       [-7.44705143e-01, -2.16200524e-01,  2.04536311e-01,\n",
       "        -4.12074371e-16, -3.51733308e-02,  1.20486361e-01],\n",
       "       [-4.18242247e-01, -2.86331239e-01, -7.36950103e-01,\n",
       "        -4.08982188e-16, -9.05939911e-02, -7.73398287e-01],\n",
       "       [-1.53236102e-01, -3.84127602e-01, -6.43725644e-01,\n",
       "        -7.82520975e-16, -1.40046492e-01,  6.10536592e-01]])"
      ]
     },
     "execution_count": 183,
     "metadata": {},
     "output_type": "execute_result"
    }
   ],
   "source": [
    "v"
   ]
  },
  {
   "cell_type": "code",
   "execution_count": 100,
   "id": "03a199c7",
   "metadata": {},
   "outputs": [
    {
     "data": {
      "text/plain": [
       "5.15141591461348"
      ]
     },
     "execution_count": 100,
     "metadata": {},
     "output_type": "execute_result"
    }
   ],
   "source": [
    "# dominant eiganvalue is \n",
    "w[0]"
   ]
  },
  {
   "cell_type": "code",
   "execution_count": 184,
   "id": "47c01f1a",
   "metadata": {},
   "outputs": [
    {
     "data": {
      "text/plain": [
       "array([-0.28270628, -0.28270628, -0.2952299 , -0.74470514, -0.41824225,\n",
       "       -0.1532361 ])"
      ]
     },
     "execution_count": 184,
     "metadata": {},
     "output_type": "execute_result"
    }
   ],
   "source": [
    "# corresponding eiganvector is\n",
    "v[:,0]"
   ]
  },
  {
   "cell_type": "code",
   "execution_count": 185,
   "id": "639f3514",
   "metadata": {},
   "outputs": [
    {
     "data": {
      "text/plain": [
       "0.0693290666221918"
      ]
     },
     "execution_count": 185,
     "metadata": {},
     "output_type": "execute_result"
    }
   ],
   "source": [
    "# tau (transmission probability)\n",
    "eiganvalue=w[0]\n",
    "R_0=5\n",
    "gamma=1/14\n",
    "t=R_0 * gamma/eiganvalue\n",
    "t"
   ]
  },
  {
   "cell_type": "code",
   "execution_count": null,
   "id": "5eba597a",
   "metadata": {},
   "outputs": [],
   "source": []
  }
 ],
 "metadata": {
  "kernelspec": {
   "display_name": "Python 3",
   "language": "python",
   "name": "python3"
  },
  "language_info": {
   "codemirror_mode": {
    "name": "ipython",
    "version": 3
   },
   "file_extension": ".py",
   "mimetype": "text/x-python",
   "name": "python",
   "nbconvert_exporter": "python",
   "pygments_lexer": "ipython3",
   "version": "3.8.8"
  }
 },
 "nbformat": 4,
 "nbformat_minor": 5
}
